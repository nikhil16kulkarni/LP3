{
 "cells": [
  {
   "cell_type": "code",
   "execution_count": 1,
   "id": "1bc9ba59",
   "metadata": {},
   "outputs": [],
   "source": [
    "import random"
   ]
  },
  {
   "cell_type": "code",
   "execution_count": 2,
   "id": "5709574f",
   "metadata": {},
   "outputs": [],
   "source": [
    "def generate(n, g):\n",
    "  print(\"Diffie-Hellman Key Exchange\\n\")\n",
    "\n",
    "  print(\"Modulus chosen:\", n)\n",
    "  print(\"Base chosen:\", g)\n",
    "\n",
    "  # Choose random numbers\n",
    "  a = random.randint(2, 1000)\n",
    "  b = random.randint(2, 1000)\n",
    "\n",
    "  print(\"Number chosen by A:\", a)\n",
    "  print(\"Number chosen by B:\", b)\n",
    "\n",
    "  print(\"\\nCalculating shared keys for both A and B\\n\")\n",
    "  A = pow(g, a) % n\n",
    "  B = pow(g, b) % n\n",
    "\n",
    "  print(\"A's calculated value:\", A)\n",
    "  print(\"B's calculated value:\", B)\n",
    "\n",
    "  # Exchange calculated values\n",
    "  print(\"\\nExchanging calculated values\\n\")\n",
    "  k1 = pow(B, a) % n\n",
    "  k2 = pow(A, b) % n\n",
    "\n",
    "  print(\"A's secret key:\", k1)\n",
    "  print(\"B's secret key:\", k2)"
   ]
  },
  {
   "cell_type": "code",
   "execution_count": 3,
   "id": "6c77bd81",
   "metadata": {},
   "outputs": [
    {
     "name": "stdout",
     "output_type": "stream",
     "text": [
      "Enter modulus: 95\n",
      "Enter base: 23\n",
      "Diffie-Hellman Key Exchange\n",
      "\n",
      "Modulus chosen: 95\n",
      "Base chosen: 23\n",
      "Number chosen by A: 86\n",
      "Number chosen by B: 550\n",
      "\n",
      "Calculating shared keys for both A and B\n",
      "\n",
      "A's calculated value: 74\n",
      "B's calculated value: 4\n",
      "\n",
      "Exchanging calculated values\n",
      "\n",
      "A's secret key: 36\n",
      "B's secret key: 36\n"
     ]
    }
   ],
   "source": [
    "generate(\n",
    "    int(input(\"Enter modulus: \")),\n",
    "    int(input(\"Enter base: \"))\n",
    ")"
   ]
  },
  {
   "cell_type": "code",
   "execution_count": null,
   "id": "7693cac9",
   "metadata": {},
   "outputs": [],
   "source": []
  }
 ],
 "metadata": {
  "kernelspec": {
   "display_name": "Python 3 (ipykernel)",
   "language": "python",
   "name": "python3"
  },
  "language_info": {
   "codemirror_mode": {
    "name": "ipython",
    "version": 3
   },
   "file_extension": ".py",
   "mimetype": "text/x-python",
   "name": "python",
   "nbconvert_exporter": "python",
   "pygments_lexer": "ipython3",
   "version": "3.9.7"
  }
 },
 "nbformat": 4,
 "nbformat_minor": 5
}
