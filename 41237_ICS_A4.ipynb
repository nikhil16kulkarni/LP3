{
 "cells": [
  {
   "cell_type": "code",
   "execution_count": 25,
   "id": "48cfde9c",
   "metadata": {},
   "outputs": [
    {
     "name": "stdout",
     "output_type": "stream",
     "text": [
      "457 443\n"
     ]
    }
   ],
   "source": [
    "def generate_keys():\n",
    "\n",
    "  from random import randint\n",
    "  from math import gcd\n",
    "  from sympy import mod_inverse\n",
    "\n",
    "\n",
    "  def isPrime(n):\n",
    "      if n == 0 or n == 1:\n",
    "        return False\n",
    "\n",
    "      for i in range(2, int(n**0.5)+1):\n",
    "        if n % i == 0:\n",
    "          return False\n",
    "\n",
    "      return True\n",
    "    \n",
    "\n",
    "  def generate_primes():\n",
    "      primes = [i for i in range(0, 999) if isPrime(i)]\n",
    "      return random.choices(primes, k=2)\n",
    "\n",
    "  p, q = generate_primes()\n",
    "    \n",
    "  print(p,q)\n",
    "\n",
    "  # Generate Two unequal Large Primes of comparable size\n",
    "  #p, q = 167, 773\n",
    "  #p, q = [6971, 6299], [877, 751]\n",
    "\n",
    "  # For large p and q, n will take centuries to factorize\n",
    "  n = p*q\n",
    "\n",
    "  # phi function\n",
    "  fi_n = (p-1)*(q-1)\n",
    "  \n",
    "  # e and fi_n are relatively prime if their gcd is 1\n",
    "  while True:\n",
    "    e = randint(1, fi_n)\n",
    "    if gcd(fi_n, e) == 1:\n",
    "      break\n",
    "  \n",
    "  # inverse modulo exists iff e and fi_n are relatively prime\n",
    "  # Modular Inverse\n",
    "  d = mod_inverse(e, fi_n)\n",
    "\n",
    "  return (e,n), (d,n)\n",
    "\n",
    "\n",
    "public_key, private_key = generate_keys()"
   ]
  },
  {
   "cell_type": "code",
   "execution_count": 26,
   "id": "add87533",
   "metadata": {},
   "outputs": [
    {
     "data": {
      "text/plain": [
       "179377"
      ]
     },
     "execution_count": 26,
     "metadata": {},
     "output_type": "execute_result"
    }
   ],
   "source": [
    "def encryption(m, public_key):\n",
    "  e, n = public_key\n",
    "  c = m**e % n\n",
    "  return c\n",
    "\n",
    "c = encryption(ord('A'), public_key)\n",
    "c"
   ]
  },
  {
   "cell_type": "code",
   "execution_count": 27,
   "id": "6f3b5aa2",
   "metadata": {},
   "outputs": [
    {
     "data": {
      "text/plain": [
       "'A'"
      ]
     },
     "execution_count": 27,
     "metadata": {},
     "output_type": "execute_result"
    }
   ],
   "source": [
    "def decryption(c, private_key):\n",
    "  d, n = private_key\n",
    "  p = c**d % n\n",
    "  return p\n",
    "\n",
    "p = decryption(c, private_key)\n",
    "chr(p)"
   ]
  },
  {
   "cell_type": "code",
   "execution_count": 28,
   "id": "acc95e9e",
   "metadata": {},
   "outputs": [
    {
     "data": {
      "text/plain": [
       "'≺😬😬\\U000139b0'"
      ]
     },
     "execution_count": 28,
     "metadata": {},
     "output_type": "execute_result"
    }
   ],
   "source": [
    "def encrypt_text(plain_text, public_key):\n",
    "  cipher_text = ''\n",
    "  for character in plain_text:\n",
    "    cipher_text += chr(encryption(ord(character), public_key))\n",
    "  return cipher_text\n",
    "\n",
    "cipher_text = encrypt_text('Cool', public_key)\n",
    "cipher_text"
   ]
  },
  {
   "cell_type": "code",
   "execution_count": 29,
   "id": "02d161ca",
   "metadata": {},
   "outputs": [
    {
     "data": {
      "text/plain": [
       "'Cool'"
      ]
     },
     "execution_count": 29,
     "metadata": {},
     "output_type": "execute_result"
    }
   ],
   "source": [
    "def decrypt_text(cipher_text, private_key):\n",
    "  decrypted_text = ''\n",
    "  for character in cipher_text:\n",
    "    decrypted_text += chr(encryption(ord(character), private_key))\n",
    "  return decrypted_text\n",
    "\n",
    "decrypted_text = decrypt_text(cipher_text, private_key)\n",
    "decrypted_text"
   ]
  },
  {
   "cell_type": "code",
   "execution_count": null,
   "id": "6e0d05cd",
   "metadata": {},
   "outputs": [],
   "source": []
  }
 ],
 "metadata": {
  "kernelspec": {
   "display_name": "Python 3 (ipykernel)",
   "language": "python",
   "name": "python3"
  },
  "language_info": {
   "codemirror_mode": {
    "name": "ipython",
    "version": 3
   },
   "file_extension": ".py",
   "mimetype": "text/x-python",
   "name": "python",
   "nbconvert_exporter": "python",
   "pygments_lexer": "ipython3",
   "version": "3.9.7"
  }
 },
 "nbformat": 4,
 "nbformat_minor": 5
}
