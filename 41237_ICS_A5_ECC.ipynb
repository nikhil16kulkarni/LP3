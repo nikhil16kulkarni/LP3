{
 "cells": [
  {
   "cell_type": "code",
   "execution_count": 1,
   "id": "bdfdf9ed",
   "metadata": {},
   "outputs": [],
   "source": [
    "import math\n",
    "import random"
   ]
  },
  {
   "cell_type": "code",
   "execution_count": 2,
   "id": "a5d7ddf3",
   "metadata": {},
   "outputs": [],
   "source": [
    "def point(a, b):\n",
    "\n",
    "    if (4*(a**3) + 27*(b**2)) != 0:\n",
    "        x = 1\n",
    "        print(\"generating\")\n",
    "        while True:\n",
    "            rhs = (x**3) + (a*x) + b\n",
    "            y = int(math.sqrt(rhs))\n",
    "            lhs = (y**2)\n",
    "\n",
    "            if lhs == rhs:\n",
    "                return [x, y]\n",
    "            else:\n",
    "                x += 1\n",
    "    else:\n",
    "        print(\"Enter another coefficients.\")"
   ]
  },
  {
   "cell_type": "code",
   "execution_count": 3,
   "id": "71555470",
   "metadata": {},
   "outputs": [
    {
     "name": "stdout",
     "output_type": "stream",
     "text": [
      "Enter the coefficient 'a' of curve: 3\n",
      "Enter the coefficient 'b' of curve: 4\n"
     ]
    }
   ],
   "source": [
    "a = int(input(\"Enter the coefficient 'a' of curve: \"))\n",
    "b = int(input(\"Enter the coefficient 'b' of curve: \"))"
   ]
  },
  {
   "cell_type": "code",
   "execution_count": 4,
   "id": "27e8dc26",
   "metadata": {},
   "outputs": [],
   "source": [
    "private_A = 13\n",
    "private_B = 15"
   ]
  },
  {
   "cell_type": "code",
   "execution_count": 5,
   "id": "88cf545c",
   "metadata": {},
   "outputs": [
    {
     "name": "stdout",
     "output_type": "stream",
     "text": [
      "generating\n",
      "Generator point:  [5, 12]\n"
     ]
    }
   ],
   "source": [
    "generator = point(a, b)\n",
    "print(\"Generator point: \", generator)"
   ]
  },
  {
   "cell_type": "code",
   "execution_count": 6,
   "id": "57537f03",
   "metadata": {},
   "outputs": [
    {
     "name": "stdout",
     "output_type": "stream",
     "text": [
      "Enter the plaintext integer: 10001010\n"
     ]
    }
   ],
   "source": [
    "m = int(input(\"Enter the plaintext integer: \"))"
   ]
  },
  {
   "cell_type": "code",
   "execution_count": 7,
   "id": "2f0aed5e",
   "metadata": {},
   "outputs": [
    {
     "name": "stdout",
     "output_type": "stream",
     "text": [
      "Public Key of A:  [65, 156]\n",
      "Public Key of B:  [75, 180]\n"
     ]
    }
   ],
   "source": [
    "public_key_A = [private_A*generator[0], private_A*generator[1]]\n",
    "print(\"Public Key of A: \", public_key_A)\n",
    "\n",
    "public_key_B = [private_B*generator[0], private_B*generator[1]]\n",
    "print(\"Public Key of B: \", public_key_B)"
   ]
  },
  {
   "cell_type": "code",
   "execution_count": 8,
   "id": "4a7ec011",
   "metadata": {},
   "outputs": [
    {
     "name": "stdout",
     "output_type": "stream",
     "text": [
      "Ciphertext:  [85, 10002285]\n"
     ]
    }
   ],
   "source": [
    "k = random.randint(0, 10)\n",
    "\n",
    "c1 = k * (generator[0] + generator[1])\n",
    "\n",
    "c2 = m + ((k*public_key_B[0]) + (k*public_key_B[1]))\n",
    "\n",
    "ciphertext = [c1, c2]\n",
    "print(\"Ciphertext: \", ciphertext)"
   ]
  },
  {
   "cell_type": "code",
   "execution_count": 9,
   "id": "5265d347",
   "metadata": {},
   "outputs": [
    {
     "name": "stdout",
     "output_type": "stream",
     "text": [
      "Decrypted Plaintext:  10001010\n"
     ]
    }
   ],
   "source": [
    "r = private_B*c1\n",
    "\n",
    "plaintext = c2 - r\n",
    "print(\"Decrypted Plaintext: \", plaintext)"
   ]
  },
  {
   "cell_type": "code",
   "execution_count": null,
   "id": "66cfa57e",
   "metadata": {},
   "outputs": [],
   "source": []
  }
 ],
 "metadata": {
  "kernelspec": {
   "display_name": "Python 3 (ipykernel)",
   "language": "python",
   "name": "python3"
  },
  "language_info": {
   "codemirror_mode": {
    "name": "ipython",
    "version": 3
   },
   "file_extension": ".py",
   "mimetype": "text/x-python",
   "name": "python",
   "nbconvert_exporter": "python",
   "pygments_lexer": "ipython3",
   "version": "3.9.7"
  }
 },
 "nbformat": 4,
 "nbformat_minor": 5
}
