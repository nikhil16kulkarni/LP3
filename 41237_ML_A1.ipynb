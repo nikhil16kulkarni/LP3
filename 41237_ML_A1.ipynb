{
 "cells": [
  {
   "cell_type": "code",
   "execution_count": 55,
   "id": "b47d54e1",
   "metadata": {},
   "outputs": [],
   "source": [
    "import pandas as pd\n",
    "import numpy as np\n",
    "import matplotlib.pyplot as plt\n",
    "import seaborn as sns"
   ]
  },
  {
   "cell_type": "code",
   "execution_count": 56,
   "id": "77bb9501",
   "metadata": {},
   "outputs": [],
   "source": [
    "def plotData(x, y, x_label=\"Driving_Hours\", y_label='Risk_Score'):\n",
    "    plt.figure(figsize=(6,6))\n",
    "    plt.xlabel(x_label)\n",
    "    plt.ylabel(y_label)\n",
    "    plt.scatter(x,y)\n",
    "    return plt"
   ]
  },
  {
   "cell_type": "code",
   "execution_count": 57,
   "id": "cc72695e",
   "metadata": {},
   "outputs": [],
   "source": [
    "def plotRegressionLine(x, y, y_pred, x_label=\"Driving_Hours\", y_label='Risk_Score'):\n",
    "    plt = plotData(x, y, x_label, y_label)\n",
    "    plt.plot(x, y_pred, color=\"Red\", linewidth=3)\n",
    "    plt.show()"
   ]
  },
  {
   "cell_type": "code",
   "execution_count": 58,
   "id": "8225e5dc",
   "metadata": {},
   "outputs": [],
   "source": [
    "def calR2score(x, y, y_pred):\n",
    "    y_mean = y.mean()\n",
    "    SStot = sum((y-y_mean)**2)\n",
    "    SSres = sum((y-y_pred)**2)\n",
    "    r2_score = 1-(SSres/SStot)\n",
    "    return r2_score"
   ]
  },
  {
   "cell_type": "code",
   "execution_count": 59,
   "id": "62b81159",
   "metadata": {},
   "outputs": [],
   "source": [
    "def correlationCoef(x,y):\n",
    "    x_mean=x.mean()\n",
    "    y_mean=y.mean()\n",
    "    num = sum((x-x_mean)*(y-y_mean))\n",
    "    den = (sum((x-x_mean)**2)*sum((y-y_mean)**2))**0.5\n",
    "    coef = num/den\n",
    "    return coef"
   ]
  },
  {
   "cell_type": "code",
   "execution_count": 60,
   "id": "01c7ac3a",
   "metadata": {},
   "outputs": [],
   "source": [
    "data = {\n",
    "    \"Driving_Hours\" : [10,9,2,15,10,16,11,16],\n",
    "    \"Risk_Score\" : [95,80,10,50,45,98,38,93]\n",
    "}\n",
    "\n",
    "df = pd.DataFrame.from_dict(data)"
   ]
  },
  {
   "cell_type": "code",
   "execution_count": 61,
   "id": "dce4db2c",
   "metadata": {},
   "outputs": [
    {
     "data": {
      "text/html": [
       "<div>\n",
       "<style scoped>\n",
       "    .dataframe tbody tr th:only-of-type {\n",
       "        vertical-align: middle;\n",
       "    }\n",
       "\n",
       "    .dataframe tbody tr th {\n",
       "        vertical-align: top;\n",
       "    }\n",
       "\n",
       "    .dataframe thead th {\n",
       "        text-align: right;\n",
       "    }\n",
       "</style>\n",
       "<table border=\"1\" class=\"dataframe\">\n",
       "  <thead>\n",
       "    <tr style=\"text-align: right;\">\n",
       "      <th></th>\n",
       "      <th>Driving_Hours</th>\n",
       "      <th>Risk_Score</th>\n",
       "    </tr>\n",
       "  </thead>\n",
       "  <tbody>\n",
       "    <tr>\n",
       "      <th>0</th>\n",
       "      <td>10</td>\n",
       "      <td>95</td>\n",
       "    </tr>\n",
       "    <tr>\n",
       "      <th>1</th>\n",
       "      <td>9</td>\n",
       "      <td>80</td>\n",
       "    </tr>\n",
       "    <tr>\n",
       "      <th>2</th>\n",
       "      <td>2</td>\n",
       "      <td>10</td>\n",
       "    </tr>\n",
       "    <tr>\n",
       "      <th>3</th>\n",
       "      <td>15</td>\n",
       "      <td>50</td>\n",
       "    </tr>\n",
       "    <tr>\n",
       "      <th>4</th>\n",
       "      <td>10</td>\n",
       "      <td>45</td>\n",
       "    </tr>\n",
       "    <tr>\n",
       "      <th>5</th>\n",
       "      <td>16</td>\n",
       "      <td>98</td>\n",
       "    </tr>\n",
       "    <tr>\n",
       "      <th>6</th>\n",
       "      <td>11</td>\n",
       "      <td>38</td>\n",
       "    </tr>\n",
       "    <tr>\n",
       "      <th>7</th>\n",
       "      <td>16</td>\n",
       "      <td>93</td>\n",
       "    </tr>\n",
       "  </tbody>\n",
       "</table>\n",
       "</div>"
      ],
      "text/plain": [
       "   Driving_Hours  Risk_Score\n",
       "0             10          95\n",
       "1              9          80\n",
       "2              2          10\n",
       "3             15          50\n",
       "4             10          45\n",
       "5             16          98\n",
       "6             11          38\n",
       "7             16          93"
      ]
     },
     "execution_count": 61,
     "metadata": {},
     "output_type": "execute_result"
    }
   ],
   "source": [
    "df"
   ]
  },
  {
   "cell_type": "code",
   "execution_count": 62,
   "id": "ae824b9c",
   "metadata": {},
   "outputs": [],
   "source": [
    "x = np.array(df[\"Driving_Hours\"])\n",
    "y = np.array(df[\"Risk_Score\"])"
   ]
  },
  {
   "cell_type": "code",
   "execution_count": 63,
   "id": "382dec27",
   "metadata": {},
   "outputs": [
    {
     "data": {
      "text/plain": [
       "0.6611314653759117"
      ]
     },
     "execution_count": 63,
     "metadata": {},
     "output_type": "execute_result"
    }
   ],
   "source": [
    "correlationCoef(x,y)"
   ]
  },
  {
   "cell_type": "code",
   "execution_count": 64,
   "id": "52d87337",
   "metadata": {},
   "outputs": [
    {
     "data": {
      "text/plain": [
       "<module 'matplotlib.pyplot' from 'C:\\\\Users\\\\nikhi\\\\Anaconda3\\\\lib\\\\site-packages\\\\matplotlib\\\\pyplot.py'>"
      ]
     },
     "execution_count": 64,
     "metadata": {},
     "output_type": "execute_result"
    },
    {
     "data": {
      "image/png": "[encoded data removed]",
      "text/plain": [
       "<Figure size 432x432 with 1 Axes>"
      ]
     },
     "metadata": {
      "needs_background": "light"
     },
     "output_type": "display_data"
    }
   ],
   "source": [
    "plotData(x,y)"
   ]
  },
  {
   "cell_type": "code",
   "execution_count": 65,
   "id": "95760fa3",
   "metadata": {},
   "outputs": [],
   "source": [
    "def calcCoefficient(x,y):\n",
    "    x_mean = x.mean()\n",
    "    y_mean = y.mean()\n",
    "    coef = (sum((x-x_mean)*(y-y_mean))/sum((x-x_mean)**2))\n",
    "    intercept = y_mean - coef*x_mean\n",
    "    return coef, intercept"
   ]
  },
  {
   "cell_type": "code",
   "execution_count": 66,
   "id": "f9407574",
   "metadata": {},
   "outputs": [],
   "source": [
    "w, w0 = calcCoefficient(x,y)\n",
    "y_pred = w*x + w0"
   ]
  },
  {
   "cell_type": "code",
   "execution_count": 67,
   "id": "066cb2d5",
   "metadata": {},
   "outputs": [
    {
     "name": "stdout",
     "output_type": "stream",
     "text": [
      "Coefficient :  4.58789860997547\n",
      "Intercept :  12.584627964022893\n",
      "R2 Score :  0.43709481451010035\n",
      "Equation : Y= 4.58789860997547*x + 12.584627964022893\n"
     ]
    },
    {
     "data": {
      "image/png": "[encoded data removed]",
      "text/plain": [
       "<Figure size 432x432 with 1 Axes>"
      ]
     },
     "metadata": {
      "needs_background": "light"
     },
     "output_type": "display_data"
    }
   ],
   "source": [
    "print(\"Coefficient : \", w)\n",
    "print(\"Intercept : \", w0)\n",
    "print(\"R2 Score : \", calR2score(x, y, y_pred))\n",
    "print(f\"Equation : Y= {w}*x + {w0}\")\n",
    "plotRegressionLine(x,y,y_pred)"
   ]
  },
  {
   "cell_type": "markdown",
   "id": "11886d15",
   "metadata": {},
   "source": [
    "# Sklearn Implementation"
   ]
  },
  {
   "cell_type": "code",
   "execution_count": 77,
   "id": "7be18af5",
   "metadata": {},
   "outputs": [],
   "source": [
    "import pandas as pd\n",
    "import numpy as np\n",
    "import matplotlib.pyplot as plt\n",
    "import seaborn as sns\n",
    "from sklearn.linear_model import LinearRegression"
   ]
  },
  {
   "cell_type": "code",
   "execution_count": 78,
   "id": "b3476bf5",
   "metadata": {},
   "outputs": [],
   "source": [
    "data = {\n",
    "    \"Driving_Hours\" : [10,9,2,15,10,16,11,16],\n",
    "    \"Risk_Score\" : [95,80,10,50,45,98,38,93]\n",
    "}\n",
    "\n",
    "df = pd.DataFrame.from_dict(data)\n",
    "\n",
    "x = np.array(df[\"Driving_Hours\"])\n",
    "y = np.array(df[\"Risk_Score\"])"
   ]
  },
  {
   "cell_type": "code",
   "execution_count": 79,
   "id": "d9ba2f2c",
   "metadata": {},
   "outputs": [],
   "source": [
    "x = np.array(x).reshape(-1,1)"
   ]
  },
  {
   "cell_type": "code",
   "execution_count": 80,
   "id": "3d99df5b",
   "metadata": {},
   "outputs": [],
   "source": [
    "def calR2score(x, y, y_pred):\n",
    "    y_mean = y.mean()\n",
    "    SStot = sum((y-y_mean)**2)\n",
    "    SSres = sum((y-y_pred)**2)\n",
    "    r2_score = 1-(SSres/SStot)\n",
    "    return r2_score"
   ]
  },
  {
   "cell_type": "code",
   "execution_count": 81,
   "id": "7b016164",
   "metadata": {},
   "outputs": [
    {
     "name": "stdout",
     "output_type": "stream",
     "text": [
      "Coefficient:  4.587898609975469\n",
      "Intercept:  12.584627964022907\n",
      "R2 score:  0.43709481451010035\n",
      "Equation: Y = 4.587898609975469*x+12.584627964022907\n"
     ]
    },
    {
     "data": {
      "image/png": "[encoded data removed]",
      "text/plain": [
       "<Figure size 432x432 with 1 Axes>"
      ]
     },
     "metadata": {
      "needs_background": "light"
     },
     "output_type": "display_data"
    }
   ],
   "source": [
    "model = LinearRegression()\n",
    "model.fit(x, y)\n",
    "y_pred = model.predict(x)\n",
    "print(\"Coefficient: \",model.coef_[0])\n",
    "print(\"Intercept: \",model.intercept_)\n",
    "print(\"R2 score: \",calR2score(x, y, y_pred))\n",
    "print(f\"Equation: Y = {model.coef_[0]}*x+{model.intercept_}\")\n",
    "plotRegressionLine(x, y, y_pred)"
   ]
  },
  {
   "cell_type": "code",
   "execution_count": null,
   "id": "0b2ab4f2",
   "metadata": {},
   "outputs": [],
   "source": []
  }
 ],
 "metadata": {
  "kernelspec": {
   "display_name": "Python 3 (ipykernel)",
   "language": "python",
   "name": "python3"
  },
  "language_info": {
   "codemirror_mode": {
    "name": "ipython",
    "version": 3
   },
   "file_extension": ".py",
   "mimetype": "text/x-python",
   "name": "python",
   "nbconvert_exporter": "python",
   "pygments_lexer": "ipython3",
   "version": "3.9.7"
  }
 },
 "nbformat": 4,
 "nbformat_minor": 5
}
