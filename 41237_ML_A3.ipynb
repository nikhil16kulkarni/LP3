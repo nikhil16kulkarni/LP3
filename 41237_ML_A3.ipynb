{
 "cells": [
  {
   "cell_type": "code",
   "execution_count": 1,
   "id": "8e01a509",
   "metadata": {},
   "outputs": [],
   "source": [
    "import math"
   ]
  },
  {
   "cell_type": "code",
   "execution_count": 2,
   "id": "b31cdca0",
   "metadata": {},
   "outputs": [],
   "source": [
    "x_train = [[2 ,4], [4, 4], [4, 6], [4, 2], [6, 2], [6, 4]]\n",
    "y_train = [\"Orange\", \"Blue\", \"Orange\", \"Orange\", \"Blue\", \"Orange\"]\n",
    "test_data = [[6,6]]"
   ]
  },
  {
   "cell_type": "code",
   "execution_count": 4,
   "id": "71883091",
   "metadata": {},
   "outputs": [],
   "source": [
    "class KNN:\n",
    "    \n",
    "    # Constructor\n",
    "    def __init__(self, k:int = 2, algorithm = 'auto'):\n",
    "        self.k = k\n",
    "        self.x = []\n",
    "        self.y = []\n",
    "        self.algorithm = algorithm\n",
    "    \n",
    "    \n",
    "  \n",
    "    def fit(self, x, y):\n",
    "        self.x, self.y = x, y\n",
    "   \n",
    "  \n",
    "    def get_distance(self, p1, p2):\n",
    "        x1, y1 = p1\n",
    "        x2, y2 = p2\n",
    "        return math.sqrt((x1-x2)**2 + (y2-y1)**2)\n",
    "\n",
    "    \n",
    "    def auto_knn(self, test, distances):\n",
    "        return max((distances), key = lambda tup: tup[1])[1]\n",
    "    \n",
    "    \n",
    "\n",
    "    def weighted_knn(self, test, distances, local: bool = False):\n",
    "        frequencies = {}\n",
    "        weights = {}\n",
    "\n",
    "        for d in distances:\n",
    "            weights[d[1]] = weights.get(d[1], 0.0) + float(1/d[0])\n",
    "            frequencies[d[1]] = frequencies.get(d[1], 0) + 1\n",
    "    \n",
    "        if local:\n",
    "            for w in weights:\n",
    "                weights[w] /= frequencies[w]\n",
    "    \n",
    "        return max((weights), key = lambda x: weights[x])\n",
    "\n",
    "  \n",
    "\n",
    "\n",
    "    def distance_weighted_knn(self, test, distances):\n",
    "        return self.weighted_knn(test, distances)\n",
    "\n",
    "    \n",
    "    \n",
    "    def locally_weighted_averaging_knn(self, test, distances):\n",
    "        return self.weighted_knn(test, distances, local=True)\n",
    "\n",
    "    \n",
    "    \n",
    "    def predict(self, tests):\n",
    "        results = []\n",
    "    \n",
    "        for test in tests:\n",
    "            distances = []\n",
    "      \n",
    "            for i in range(len(self.x)):\n",
    "                distances.append([self.get_distance(self.x[i], test),self.y[i]])\n",
    "      \n",
    "            distances.sort(key = lambda tup: tup[0])\n",
    "            distances = distances[:self.k]\n",
    "            print(\"Nearest Neighbors: \", distances)\n",
    "\n",
    "            \n",
    "            # Calls the _knn functions in this class\n",
    "            results.append(getattr(self, self.algorithm + '_knn')(test, distances))\n",
    "    \n",
    "        return results"
   ]
  },
  {
   "cell_type": "markdown",
   "id": "c1d18155",
   "metadata": {},
   "source": [
    "#### Basic KNN"
   ]
  },
  {
   "cell_type": "code",
   "execution_count": 5,
   "id": "53aa566b",
   "metadata": {},
   "outputs": [
    {
     "name": "stdout",
     "output_type": "stream",
     "text": [
      "Nearest Neighbors:  [[2.0, 'Orange'], [2.0, 'Orange'], [2.8284271247461903, 'Blue']]\n",
      "['Orange']\n"
     ]
    }
   ],
   "source": [
    "n = KNN(3)\n",
    "n.fit(x_train, y_train)\n",
    "print(n.predict(test_data))"
   ]
  },
  {
   "cell_type": "markdown",
   "id": "006a8a59",
   "metadata": {},
   "source": [
    "#### Distance Weighted KNN"
   ]
  },
  {
   "cell_type": "code",
   "execution_count": 6,
   "id": "8e8c565f",
   "metadata": {},
   "outputs": [
    {
     "name": "stdout",
     "output_type": "stream",
     "text": [
      "Nearest Neighbors:  [[2.0, 'Orange'], [2.0, 'Orange'], [2.8284271247461903, 'Blue']]\n",
      "['Orange']\n"
     ]
    }
   ],
   "source": [
    "n = KNN(3, 'distance_weighted')\n",
    "n.fit(x_train, y_train)\n",
    "print(n.predict(test_data))"
   ]
  },
  {
   "cell_type": "markdown",
   "id": "35925764",
   "metadata": {},
   "source": [
    "#### Locally Weighted Averaging KNN"
   ]
  },
  {
   "cell_type": "code",
   "execution_count": 7,
   "id": "bed4b6f6",
   "metadata": {},
   "outputs": [
    {
     "name": "stdout",
     "output_type": "stream",
     "text": [
      "Nearest Neighbors:  [[2.0, 'Orange'], [2.0, 'Orange'], [2.8284271247461903, 'Blue']]\n",
      "['Orange']\n"
     ]
    }
   ],
   "source": [
    "n = KNN(3, 'locally_weighted_averaging')\n",
    "n.fit(x_train, y_train)\n",
    "print(n.predict(test_data))"
   ]
  },
  {
   "cell_type": "code",
   "execution_count": null,
   "id": "2b6ad52f",
   "metadata": {},
   "outputs": [],
   "source": []
  }
 ],
 "metadata": {
  "kernelspec": {
   "display_name": "Python 3 (ipykernel)",
   "language": "python",
   "name": "python3"
  },
  "language_info": {
   "codemirror_mode": {
    "name": "ipython",
    "version": 3
   },
   "file_extension": ".py",
   "mimetype": "text/x-python",
   "name": "python",
   "nbconvert_exporter": "python",
   "pygments_lexer": "ipython3",
   "version": "3.9.7"
  }
 },
 "nbformat": 4,
 "nbformat_minor": 5
}
